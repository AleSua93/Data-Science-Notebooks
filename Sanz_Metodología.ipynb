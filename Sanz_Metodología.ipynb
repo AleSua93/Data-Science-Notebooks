{
  "nbformat": 4,
  "nbformat_minor": 0,
  "metadata": {
    "colab": {
      "name": "Sanz - Metodología ",
      "provenance": [],
      "collapsed_sections": [
        "5yfidYGADsCV",
        "avoqisoMDDRC",
        "_SkppHVRFCvY",
        "XaClJCCkFIe2",
        "ywxr_qFdFhaz",
        "xu-rXOk7F6g-"
      ]
    },
    "kernelspec": {
      "name": "python3",
      "display_name": "Python 3"
    },
    "language_info": {
      "name": "python"
    }
  },
  "cells": [
    {
      "cell_type": "markdown",
      "metadata": {
        "id": "P9TBq2ah8CXY"
      },
      "source": [
        "# ***PROBLEMA I***"
      ]
    },
    {
      "cell_type": "code",
      "metadata": {
        "colab": {
          "base_uri": "https://localhost:8080/"
        },
        "id": "usWsA2DQ791A",
        "outputId": "20db30db-72ad-42d2-c298-9bb46d0597e0"
      },
      "source": [
        "!git clone https://github.com/fzamberlan/favaloro.git"
      ],
      "execution_count": 1,
      "outputs": [
        {
          "output_type": "stream",
          "text": [
            "Cloning into 'favaloro'...\n",
            "remote: Enumerating objects: 36, done.\u001b[K\n",
            "remote: Counting objects: 100% (36/36), done.\u001b[K\n",
            "remote: Compressing objects: 100% (35/35), done.\u001b[K\n",
            "remote: Total 36 (delta 7), reused 0 (delta 0), pack-reused 0\u001b[K\n",
            "Unpacking objects: 100% (36/36), done.\n"
          ],
          "name": "stdout"
        }
      ]
    },
    {
      "cell_type": "code",
      "metadata": {
        "id": "L0HnRQJf8KYe"
      },
      "source": [
        "import pandas as pd\n",
        "from scipy import stats\n",
        "import matplotlib.pyplot as plt\n",
        "import numpy as np\n",
        "import seaborn as sns"
      ],
      "execution_count": 2,
      "outputs": []
    },
    {
      "cell_type": "code",
      "metadata": {
        "colab": {
          "base_uri": "https://localhost:8080/",
          "height": 206
        },
        "id": "Ik3uM_qI8N2D",
        "outputId": "0ea24639-6a38-4db6-db23-4a17491abd86"
      },
      "source": [
        "fumadores = pd.read_csv(\"/content/favaloro/fumadores.csv\")\n",
        "fumadores.head()"
      ],
      "execution_count": 35,
      "outputs": [
        {
          "output_type": "execute_result",
          "data": {
            "text/html": [
              "<div>\n",
              "<style scoped>\n",
              "    .dataframe tbody tr th:only-of-type {\n",
              "        vertical-align: middle;\n",
              "    }\n",
              "\n",
              "    .dataframe tbody tr th {\n",
              "        vertical-align: top;\n",
              "    }\n",
              "\n",
              "    .dataframe thead th {\n",
              "        text-align: right;\n",
              "    }\n",
              "</style>\n",
              "<table border=\"1\" class=\"dataframe\">\n",
              "  <thead>\n",
              "    <tr style=\"text-align: right;\">\n",
              "      <th></th>\n",
              "      <th>Sin stress</th>\n",
              "      <th>Con stress</th>\n",
              "      <th>Post tratamiento</th>\n",
              "    </tr>\n",
              "  </thead>\n",
              "  <tbody>\n",
              "    <tr>\n",
              "      <th>0</th>\n",
              "      <td>15</td>\n",
              "      <td>20</td>\n",
              "      <td>15</td>\n",
              "    </tr>\n",
              "    <tr>\n",
              "      <th>1</th>\n",
              "      <td>31</td>\n",
              "      <td>45</td>\n",
              "      <td>9</td>\n",
              "    </tr>\n",
              "    <tr>\n",
              "      <th>2</th>\n",
              "      <td>30</td>\n",
              "      <td>48</td>\n",
              "      <td>10</td>\n",
              "    </tr>\n",
              "    <tr>\n",
              "      <th>3</th>\n",
              "      <td>16</td>\n",
              "      <td>30</td>\n",
              "      <td>14</td>\n",
              "    </tr>\n",
              "    <tr>\n",
              "      <th>4</th>\n",
              "      <td>10</td>\n",
              "      <td>20</td>\n",
              "      <td>14</td>\n",
              "    </tr>\n",
              "  </tbody>\n",
              "</table>\n",
              "</div>"
            ],
            "text/plain": [
              "   Sin stress  Con stress  Post tratamiento\n",
              "0          15          20                15\n",
              "1          31          45                 9\n",
              "2          30          48                10\n",
              "3          16          30                14\n",
              "4          10          20                14"
            ]
          },
          "metadata": {
            "tags": []
          },
          "execution_count": 35
        }
      ]
    },
    {
      "cell_type": "markdown",
      "metadata": {
        "id": "FxQaj-Zp8ZtF"
      },
      "source": [
        "# ***DEFINICIÓN DE VARIABLES***"
      ]
    },
    {
      "cell_type": "code",
      "metadata": {
        "id": "tNL4mzVl8cpD"
      },
      "source": [
        "sin_stress = fumadores[\"Sin stress\"]\n",
        "con_stress = fumadores[\"Con stress\"]\n",
        "post_tratamiento = fumadores[\"Post tratamiento\"]"
      ],
      "execution_count": 4,
      "outputs": []
    },
    {
      "cell_type": "markdown",
      "metadata": {
        "id": "03Ni6VTp8hgy"
      },
      "source": [
        "# ***A) B) T-TEST***"
      ]
    },
    {
      "cell_type": "code",
      "metadata": {
        "colab": {
          "base_uri": "https://localhost:8080/"
        },
        "id": "X7chqdtd8eDO",
        "outputId": "a4265604-ce45-46f4-cc89-c1c74aaff641"
      },
      "source": [
        "#GRUPOS INDEPENDIENTES\n",
        "stats.ttest_ind(con_stress, sin_stress)"
      ],
      "execution_count": 5,
      "outputs": [
        {
          "output_type": "execute_result",
          "data": {
            "text/plain": [
              "Ttest_indResult(statistic=6.736392015703182, pvalue=9.426884745773782e-09)"
            ]
          },
          "metadata": {
            "tags": []
          },
          "execution_count": 5
        }
      ]
    },
    {
      "cell_type": "code",
      "metadata": {
        "colab": {
          "base_uri": "https://localhost:8080/"
        },
        "id": "wHM36e-U8rk9",
        "outputId": "328ccf1a-cda0-473e-a458-dae62ac863b5"
      },
      "source": [
        "#GRUPOS DEPENDIENTES\n",
        "stats.ttest_rel(con_stress, sin_stress)"
      ],
      "execution_count": 6,
      "outputs": [
        {
          "output_type": "execute_result",
          "data": {
            "text/plain": [
              "Ttest_relResult(statistic=12.327324176329371, pvalue=7.874562696809275e-13)"
            ]
          },
          "metadata": {
            "tags": []
          },
          "execution_count": 6
        }
      ]
    },
    {
      "cell_type": "markdown",
      "metadata": {
        "id": "VQhHtqkq9Q2n"
      },
      "source": [
        "# ***2) INTERPRETACIÓN DE DATOS OBTENIDOS - BOXPLOT***"
      ]
    },
    {
      "cell_type": "code",
      "metadata": {
        "colab": {
          "base_uri": "https://localhost:8080/",
          "height": 271
        },
        "id": "UQiZv_iw9gtr",
        "outputId": "5ea5b27b-a4f6-4d87-e7d7-cc0f9822bdc6"
      },
      "source": [
        "sns.set(style=\"whitegrid\")\n",
        "plt.boxplot([con_stress, sin_stress])\n",
        "plt.xticks([1,2],[\"Con Stress\", \"Sin Stress\"])\n",
        "plt.ylabel(\"Cantidad de cigarrillos\")\n",
        "plt.show()"
      ],
      "execution_count": 7,
      "outputs": [
        {
          "output_type": "display_data",
          "data": {
            "image/png": "[encoded data removed]",
            "text/plain": [
              "<Figure size 432x288 with 1 Axes>"
            ]
          },
          "metadata": {
            "tags": []
          }
        }
      ]
    },
    {
      "cell_type": "code",
      "metadata": {
        "colab": {
          "base_uri": "https://localhost:8080/",
          "height": 300
        },
        "id": "9WO9PrlNBhhY",
        "outputId": "b0fa7384-495e-4f3e-f321-c22fbe5e8cdd"
      },
      "source": [
        "fumadores.describe()"
      ],
      "execution_count": 8,
      "outputs": [
        {
          "output_type": "execute_result",
          "data": {
            "text/html": [
              "<div>\n",
              "<style scoped>\n",
              "    .dataframe tbody tr th:only-of-type {\n",
              "        vertical-align: middle;\n",
              "    }\n",
              "\n",
              "    .dataframe tbody tr th {\n",
              "        vertical-align: top;\n",
              "    }\n",
              "\n",
              "    .dataframe thead th {\n",
              "        text-align: right;\n",
              "    }\n",
              "</style>\n",
              "<table border=\"1\" class=\"dataframe\">\n",
              "  <thead>\n",
              "    <tr style=\"text-align: right;\">\n",
              "      <th></th>\n",
              "      <th>Sin stress</th>\n",
              "      <th>Con stress</th>\n",
              "      <th>Post tratamiento</th>\n",
              "    </tr>\n",
              "  </thead>\n",
              "  <tbody>\n",
              "    <tr>\n",
              "      <th>count</th>\n",
              "      <td>29.000000</td>\n",
              "      <td>29.000000</td>\n",
              "      <td>29.000000</td>\n",
              "    </tr>\n",
              "    <tr>\n",
              "      <th>mean</th>\n",
              "      <td>16.413793</td>\n",
              "      <td>30.793103</td>\n",
              "      <td>9.482759</td>\n",
              "    </tr>\n",
              "    <tr>\n",
              "      <th>std</th>\n",
              "      <td>7.966525</td>\n",
              "      <td>8.286733</td>\n",
              "      <td>4.595189</td>\n",
              "    </tr>\n",
              "    <tr>\n",
              "      <th>min</th>\n",
              "      <td>6.000000</td>\n",
              "      <td>16.000000</td>\n",
              "      <td>1.000000</td>\n",
              "    </tr>\n",
              "    <tr>\n",
              "      <th>25%</th>\n",
              "      <td>9.000000</td>\n",
              "      <td>25.000000</td>\n",
              "      <td>6.000000</td>\n",
              "    </tr>\n",
              "    <tr>\n",
              "      <th>50%</th>\n",
              "      <td>15.000000</td>\n",
              "      <td>30.000000</td>\n",
              "      <td>10.000000</td>\n",
              "    </tr>\n",
              "    <tr>\n",
              "      <th>75%</th>\n",
              "      <td>21.000000</td>\n",
              "      <td>35.000000</td>\n",
              "      <td>14.000000</td>\n",
              "    </tr>\n",
              "    <tr>\n",
              "      <th>max</th>\n",
              "      <td>35.000000</td>\n",
              "      <td>48.000000</td>\n",
              "      <td>15.000000</td>\n",
              "    </tr>\n",
              "  </tbody>\n",
              "</table>\n",
              "</div>"
            ],
            "text/plain": [
              "       Sin stress  Con stress  Post tratamiento\n",
              "count   29.000000   29.000000         29.000000\n",
              "mean    16.413793   30.793103          9.482759\n",
              "std      7.966525    8.286733          4.595189\n",
              "min      6.000000   16.000000          1.000000\n",
              "25%      9.000000   25.000000          6.000000\n",
              "50%     15.000000   30.000000         10.000000\n",
              "75%     21.000000   35.000000         14.000000\n",
              "max     35.000000   48.000000         15.000000"
            ]
          },
          "metadata": {
            "tags": []
          },
          "execution_count": 8
        }
      ]
    },
    {
      "cell_type": "markdown",
      "metadata": {
        "id": "cVgkPcNnCuG_"
      },
      "source": [
        "# ***Interpretación:***\n",
        "\n",
        "Nuestra H0 supone que las personas en períodos de stress no aumentan su consumo de cigarrillos. En cambio, la H1, supone que las personas en períodos de stress aumentan el consumo de cigarrillos.\n",
        "\n",
        "El P-Valor obtenido se encuentra muy debajo del 0,05; por lo tanto, podemos rechazar la hipótesis nula.\n",
        "\n",
        "A partir de los datos obtenidos, podemos negar que las personas en períodos de stress no aumentan el consumo de cigarrillos."
      ]
    },
    {
      "cell_type": "markdown",
      "metadata": {
        "id": "sHl-qLmXDmlC"
      },
      "source": [
        "# ***PUNTO ADICIONAL***"
      ]
    },
    {
      "cell_type": "markdown",
      "metadata": {
        "id": "UGAQx5zcDpA9"
      },
      "source": [
        "# ***ANOVA***"
      ]
    },
    {
      "cell_type": "code",
      "metadata": {
        "colab": {
          "base_uri": "https://localhost:8080/"
        },
        "id": "sHIA9Ed6DC9z",
        "outputId": "6140dcea-02dc-4d9c-f017-8cebf236181d"
      },
      "source": [
        "stats.f_oneway(sin_stress, con_stress, post_tratamiento)"
      ],
      "execution_count": 9,
      "outputs": [
        {
          "output_type": "execute_result",
          "data": {
            "text/plain": [
              "F_onewayResult(statistic=67.0764705882354, pvalue=3.90629435045719e-18)"
            ]
          },
          "metadata": {
            "tags": []
          },
          "execution_count": 9
        }
      ]
    },
    {
      "cell_type": "markdown",
      "metadata": {
        "id": "5yfidYGADsCV"
      },
      "source": [
        "# ***T-TEST***"
      ]
    },
    {
      "cell_type": "code",
      "metadata": {
        "colab": {
          "base_uri": "https://localhost:8080/"
        },
        "id": "GgoP6pZeDrro",
        "outputId": "834ea7fb-0ae2-41c4-8944-3a39f600bd0e"
      },
      "source": [
        "stats.ttest_ind(sin_stress, con_stress)"
      ],
      "execution_count": 10,
      "outputs": [
        {
          "output_type": "execute_result",
          "data": {
            "text/plain": [
              "Ttest_indResult(statistic=-6.736392015703182, pvalue=9.426884745773782e-09)"
            ]
          },
          "metadata": {
            "tags": []
          },
          "execution_count": 10
        }
      ]
    },
    {
      "cell_type": "code",
      "metadata": {
        "colab": {
          "base_uri": "https://localhost:8080/"
        },
        "id": "pblSCmCPDv9L",
        "outputId": "23aaead8-4759-43b4-ca4d-ed8137526c37"
      },
      "source": [
        "stats.ttest_ind(sin_stress, post_tratamiento)"
      ],
      "execution_count": 11,
      "outputs": [
        {
          "output_type": "execute_result",
          "data": {
            "text/plain": [
              "Ttest_indResult(statistic=4.058447476945061, pvalue=0.00015477775417950616)"
            ]
          },
          "metadata": {
            "tags": []
          },
          "execution_count": 11
        }
      ]
    },
    {
      "cell_type": "code",
      "metadata": {
        "colab": {
          "base_uri": "https://localhost:8080/"
        },
        "id": "RNJIAyxTDxbU",
        "outputId": "24abfdd3-d3ff-4932-976f-a8edd067cd13"
      },
      "source": [
        "stats.ttest_ind(con_stress, post_tratamiento)"
      ],
      "execution_count": 12,
      "outputs": [
        {
          "output_type": "execute_result",
          "data": {
            "text/plain": [
              "Ttest_indResult(statistic=12.11116316579629, pvalue=2.830450965065599e-17)"
            ]
          },
          "metadata": {
            "tags": []
          },
          "execution_count": 12
        }
      ]
    },
    {
      "cell_type": "code",
      "metadata": {
        "colab": {
          "base_uri": "https://localhost:8080/",
          "height": 0
        },
        "id": "sWmmCGMFD1It",
        "outputId": "6359c6d8-90b4-4e60-b644-eb0598c1bbcc"
      },
      "source": [
        "sns.set(style=\"whitegrid\")\n",
        "plt.boxplot([con_stress, sin_stress, post_tratamiento])\n",
        "plt.xticks([1,2,3],[\"Con Stress\", \"Sin Stress\", \"Post Tratamiento\"])\n",
        "plt.title(\"Boxplot ANOVA\")\n",
        "plt.show()"
      ],
      "execution_count": 13,
      "outputs": [
        {
          "output_type": "display_data",
          "data": {
            "image/png": "[encoded data removed]",
            "text/plain": [
              "<Figure size 432x288 with 1 Axes>"
            ]
          },
          "metadata": {
            "tags": []
          }
        }
      ]
    },
    {
      "cell_type": "markdown",
      "metadata": {
        "id": "q-hKu5FvC4P0"
      },
      "source": [
        "# ***PROBLEMA II***"
      ]
    },
    {
      "cell_type": "code",
      "metadata": {
        "colab": {
          "base_uri": "https://localhost:8080/",
          "height": 206
        },
        "id": "Cq_8I9wJCnfD",
        "outputId": "a3793bbd-9582-4418-94cf-c923c0f0f1c1"
      },
      "source": [
        "datos = pd.read_csv(\"/content/favaloro/datos_experimento.csv\")\n",
        "datos.head()"
      ],
      "execution_count": 36,
      "outputs": [
        {
          "output_type": "execute_result",
          "data": {
            "text/html": [
              "<div>\n",
              "<style scoped>\n",
              "    .dataframe tbody tr th:only-of-type {\n",
              "        vertical-align: middle;\n",
              "    }\n",
              "\n",
              "    .dataframe tbody tr th {\n",
              "        vertical-align: top;\n",
              "    }\n",
              "\n",
              "    .dataframe thead th {\n",
              "        text-align: right;\n",
              "    }\n",
              "</style>\n",
              "<table border=\"1\" class=\"dataframe\">\n",
              "  <thead>\n",
              "    <tr style=\"text-align: right;\">\n",
              "      <th></th>\n",
              "      <th>Edad</th>\n",
              "      <th>Sexo</th>\n",
              "      <th>Educacion</th>\n",
              "      <th>Enfermedad</th>\n",
              "      <th>Ham-D</th>\n",
              "      <th>Apatia</th>\n",
              "    </tr>\n",
              "  </thead>\n",
              "  <tbody>\n",
              "    <tr>\n",
              "      <th>0</th>\n",
              "      <td>48.0</td>\n",
              "      <td>M</td>\n",
              "      <td>12</td>\n",
              "      <td>2</td>\n",
              "      <td>29</td>\n",
              "      <td>6</td>\n",
              "    </tr>\n",
              "    <tr>\n",
              "      <th>1</th>\n",
              "      <td>65.0</td>\n",
              "      <td>M</td>\n",
              "      <td>9</td>\n",
              "      <td>2</td>\n",
              "      <td>14</td>\n",
              "      <td>2</td>\n",
              "    </tr>\n",
              "    <tr>\n",
              "      <th>2</th>\n",
              "      <td>70.0</td>\n",
              "      <td>M</td>\n",
              "      <td>10</td>\n",
              "      <td>2</td>\n",
              "      <td>19</td>\n",
              "      <td>5</td>\n",
              "    </tr>\n",
              "    <tr>\n",
              "      <th>3</th>\n",
              "      <td>54.0</td>\n",
              "      <td>F</td>\n",
              "      <td>12</td>\n",
              "      <td>3</td>\n",
              "      <td>13</td>\n",
              "      <td>5</td>\n",
              "    </tr>\n",
              "    <tr>\n",
              "      <th>4</th>\n",
              "      <td>65.0</td>\n",
              "      <td>F</td>\n",
              "      <td>6</td>\n",
              "      <td>2</td>\n",
              "      <td>2</td>\n",
              "      <td>0</td>\n",
              "    </tr>\n",
              "  </tbody>\n",
              "</table>\n",
              "</div>"
            ],
            "text/plain": [
              "   Edad Sexo  Educacion  Enfermedad  Ham-D  Apatia\n",
              "0  48.0    M         12           2     29       6\n",
              "1  65.0    M          9           2     14       2\n",
              "2  70.0    M         10           2     19       5\n",
              "3  54.0    F         12           3     13       5\n",
              "4  65.0    F          6           2      2       0"
            ]
          },
          "metadata": {
            "tags": []
          },
          "execution_count": 36
        }
      ]
    },
    {
      "cell_type": "code",
      "metadata": {
        "colab": {
          "base_uri": "https://localhost:8080/",
          "height": 300
        },
        "id": "71cqPJGKd_4V",
        "outputId": "d19f6021-f933-486e-9c3c-209bd0702b1e"
      },
      "source": [
        "datos.describe()"
      ],
      "execution_count": 15,
      "outputs": [
        {
          "output_type": "execute_result",
          "data": {
            "text/html": [
              "<div>\n",
              "<style scoped>\n",
              "    .dataframe tbody tr th:only-of-type {\n",
              "        vertical-align: middle;\n",
              "    }\n",
              "\n",
              "    .dataframe tbody tr th {\n",
              "        vertical-align: top;\n",
              "    }\n",
              "\n",
              "    .dataframe thead th {\n",
              "        text-align: right;\n",
              "    }\n",
              "</style>\n",
              "<table border=\"1\" class=\"dataframe\">\n",
              "  <thead>\n",
              "    <tr style=\"text-align: right;\">\n",
              "      <th></th>\n",
              "      <th>Edad</th>\n",
              "      <th>Educacion</th>\n",
              "      <th>Enfermedad</th>\n",
              "      <th>Ham-D</th>\n",
              "      <th>Apatia</th>\n",
              "    </tr>\n",
              "  </thead>\n",
              "  <tbody>\n",
              "    <tr>\n",
              "      <th>count</th>\n",
              "      <td>46.000000</td>\n",
              "      <td>50.000000</td>\n",
              "      <td>50.000000</td>\n",
              "      <td>50.000000</td>\n",
              "      <td>50.000000</td>\n",
              "    </tr>\n",
              "    <tr>\n",
              "      <th>mean</th>\n",
              "      <td>63.739130</td>\n",
              "      <td>10.800000</td>\n",
              "      <td>2.020000</td>\n",
              "      <td>8.640000</td>\n",
              "      <td>4.400000</td>\n",
              "    </tr>\n",
              "    <tr>\n",
              "      <th>std</th>\n",
              "      <td>10.153127</td>\n",
              "      <td>4.981599</td>\n",
              "      <td>0.820403</td>\n",
              "      <td>6.617108</td>\n",
              "      <td>3.083862</td>\n",
              "    </tr>\n",
              "    <tr>\n",
              "      <th>min</th>\n",
              "      <td>29.000000</td>\n",
              "      <td>0.000000</td>\n",
              "      <td>1.000000</td>\n",
              "      <td>0.000000</td>\n",
              "      <td>0.000000</td>\n",
              "    </tr>\n",
              "    <tr>\n",
              "      <th>25%</th>\n",
              "      <td>58.000000</td>\n",
              "      <td>6.000000</td>\n",
              "      <td>1.000000</td>\n",
              "      <td>3.250000</td>\n",
              "      <td>2.000000</td>\n",
              "    </tr>\n",
              "    <tr>\n",
              "      <th>50%</th>\n",
              "      <td>65.000000</td>\n",
              "      <td>12.000000</td>\n",
              "      <td>2.000000</td>\n",
              "      <td>7.000000</td>\n",
              "      <td>4.500000</td>\n",
              "    </tr>\n",
              "    <tr>\n",
              "      <th>75%</th>\n",
              "      <td>70.000000</td>\n",
              "      <td>14.000000</td>\n",
              "      <td>3.000000</td>\n",
              "      <td>12.000000</td>\n",
              "      <td>6.750000</td>\n",
              "    </tr>\n",
              "    <tr>\n",
              "      <th>max</th>\n",
              "      <td>85.000000</td>\n",
              "      <td>23.000000</td>\n",
              "      <td>3.000000</td>\n",
              "      <td>29.000000</td>\n",
              "      <td>11.000000</td>\n",
              "    </tr>\n",
              "  </tbody>\n",
              "</table>\n",
              "</div>"
            ],
            "text/plain": [
              "            Edad  Educacion  Enfermedad      Ham-D     Apatia\n",
              "count  46.000000  50.000000   50.000000  50.000000  50.000000\n",
              "mean   63.739130  10.800000    2.020000   8.640000   4.400000\n",
              "std    10.153127   4.981599    0.820403   6.617108   3.083862\n",
              "min    29.000000   0.000000    1.000000   0.000000   0.000000\n",
              "25%    58.000000   6.000000    1.000000   3.250000   2.000000\n",
              "50%    65.000000  12.000000    2.000000   7.000000   4.500000\n",
              "75%    70.000000  14.000000    3.000000  12.000000   6.750000\n",
              "max    85.000000  23.000000    3.000000  29.000000  11.000000"
            ]
          },
          "metadata": {
            "tags": []
          },
          "execution_count": 15
        }
      ]
    },
    {
      "cell_type": "markdown",
      "metadata": {
        "id": "avoqisoMDDRC"
      },
      "source": [
        "# ***1) ANOVA***"
      ]
    },
    {
      "cell_type": "code",
      "metadata": {
        "id": "PQH4XpiLDGQg"
      },
      "source": [
        "ApatiaEnfermedad1 = datos[\"Apatia\"][datos[\"Enfermedad\"]==1]\n",
        "ApatiaEnfermedad2 = datos[\"Apatia\"][datos[\"Enfermedad\"]==2]\n",
        "ApatiaEnfermedad3 = datos[\"Apatia\"][datos[\"Enfermedad\"]==3]"
      ],
      "execution_count": 16,
      "outputs": []
    },
    {
      "cell_type": "code",
      "metadata": {
        "colab": {
          "base_uri": "https://localhost:8080/"
        },
        "id": "ziBVxbFEDM4N",
        "outputId": "008e0337-b192-498f-a869-b0eb52788b3e"
      },
      "source": [
        "stats.f_oneway(ApatiaEnfermedad1, ApatiaEnfermedad2, ApatiaEnfermedad3)"
      ],
      "execution_count": 17,
      "outputs": [
        {
          "output_type": "execute_result",
          "data": {
            "text/plain": [
              "F_onewayResult(statistic=4.57948717948718, pvalue=0.015238745741364324)"
            ]
          },
          "metadata": {
            "tags": []
          },
          "execution_count": 17
        }
      ]
    },
    {
      "cell_type": "code",
      "metadata": {
        "colab": {
          "base_uri": "https://localhost:8080/",
          "height": 0
        },
        "id": "3WozTdZHDtFO",
        "outputId": "0ff49b33-7ebc-4c3a-b6f1-b4aa8e744fac"
      },
      "source": [
        "sns.set(style=\"whitegrid\")\n",
        "plt.boxplot([ApatiaEnfermedad1, ApatiaEnfermedad2, ApatiaEnfermedad3])\n",
        "plt.xticks([1,2,3],[\"Un año\", \"Dos años\", \"Tres años\"])\n",
        "plt.title(\"Boxplot ANOVA\")\n",
        "plt.show()"
      ],
      "execution_count": 18,
      "outputs": [
        {
          "output_type": "stream",
          "text": [
            "/usr/local/lib/python3.7/dist-packages/numpy/core/_asarray.py:83: VisibleDeprecationWarning: Creating an ndarray from ragged nested sequences (which is a list-or-tuple of lists-or-tuples-or ndarrays with different lengths or shapes) is deprecated. If you meant to do this, you must specify 'dtype=object' when creating the ndarray\n",
            "  return array(a, dtype, copy=False, order=order)\n"
          ],
          "name": "stderr"
        },
        {
          "output_type": "display_data",
          "data": {
            "image/png": "[encoded data removed]",
            "text/plain": [
              "<Figure size 432x288 with 1 Axes>"
            ]
          },
          "metadata": {
            "tags": []
          }
        }
      ]
    },
    {
      "cell_type": "markdown",
      "metadata": {
        "id": "CuUWcfL9EfUw"
      },
      "source": [
        "# ***EDAD***"
      ]
    },
    {
      "cell_type": "code",
      "metadata": {
        "colab": {
          "base_uri": "https://localhost:8080/",
          "height": 301
        },
        "id": "NNOCZqugEfAb",
        "outputId": "e7d9809c-6253-42cb-a660-26ec354fa366"
      },
      "source": [
        "plt.hist(datos[\"Edad\"], bins=5, edgecolor = \"black\", color=\"r\")\n",
        "plt.title(\"Histograma Edad\")\n",
        "plt.xlabel(\"Edad\")\n",
        "plt.ylabel('Cantidad de Personas')\n",
        "plt.show()"
      ],
      "execution_count": 19,
      "outputs": [
        {
          "output_type": "display_data",
          "data": {
            "image/png": "[encoded data removed]",
            "text/plain": [
              "<Figure size 432x288 with 1 Axes>"
            ]
          },
          "metadata": {
            "tags": []
          }
        }
      ]
    },
    {
      "cell_type": "markdown",
      "metadata": {
        "id": "EFbw_LJ4Erv8"
      },
      "source": [
        "# ***SEXO***"
      ]
    },
    {
      "cell_type": "code",
      "metadata": {
        "colab": {
          "base_uri": "https://localhost:8080/"
        },
        "id": "-C3A_LssExDT",
        "outputId": "6858759b-fe3c-4122-af24-db2fca13f752"
      },
      "source": [
        "tabla_sexos = datos.groupby(\"Sexo\").size()\n",
        "print(tabla_sexos)"
      ],
      "execution_count": 20,
      "outputs": [
        {
          "output_type": "stream",
          "text": [
            "Sexo\n",
            "F    25\n",
            "M    25\n",
            "dtype: int64\n"
          ],
          "name": "stdout"
        }
      ]
    },
    {
      "cell_type": "code",
      "metadata": {
        "colab": {
          "base_uri": "https://localhost:8080/",
          "height": 264
        },
        "id": "Jr2qXnwAEtkN",
        "outputId": "7f109e4a-94f1-4649-abbe-61a20154da0e"
      },
      "source": [
        "plt.pie(x=tabla_sexos, labels=[\"Hombres\", \"Mujeres\"], autopct=\"%.2f %%\", colors=[\"#EE6055\",\"#60D394\"])\n",
        "plt.title(\"Sexo\")\n",
        "plt.show()"
      ],
      "execution_count": 21,
      "outputs": [
        {
          "output_type": "display_data",
          "data": {
            "image/png": "[encoded data removed]",
            "text/plain": [
              "<Figure size 432x288 with 1 Axes>"
            ]
          },
          "metadata": {
            "tags": []
          }
        }
      ]
    },
    {
      "cell_type": "markdown",
      "metadata": {
        "id": "CD3MXfbPE50Q"
      },
      "source": [
        "# ***AÑOS DE EDUCACIÓN***"
      ]
    },
    {
      "cell_type": "code",
      "metadata": {
        "colab": {
          "base_uri": "https://localhost:8080/"
        },
        "id": "3hhULmAcE4EG",
        "outputId": "163a6d49-601d-49eb-b1e0-7df79885ea64"
      },
      "source": [
        "educacion_promedio = datos[\"Educacion\"].mean()\n",
        "print(\"Promedio:\", educacion_promedio)"
      ],
      "execution_count": 22,
      "outputs": [
        {
          "output_type": "stream",
          "text": [
            "Promedio: 10.8\n"
          ],
          "name": "stdout"
        }
      ]
    },
    {
      "cell_type": "code",
      "metadata": {
        "colab": {
          "base_uri": "https://localhost:8080/",
          "height": 301
        },
        "id": "7BEi-SK1o4zY",
        "outputId": "650d9865-e3e1-4d4e-a625-3c84c50e2273"
      },
      "source": [
        "plt.hist(datos[\"Educacion\"], bins=5, edgecolor = \"black\", color=\"g\")\n",
        "plt.title(\"Histograma Edad\")\n",
        "plt.xlabel(\"Años de Educación\")\n",
        "plt.ylabel('Cantidad de Personas')\n",
        "plt.show()"
      ],
      "execution_count": 23,
      "outputs": [
        {
          "output_type": "display_data",
          "data": {
            "image/png": "[encoded data removed]",
            "text/plain": [
              "<Figure size 432x288 with 1 Axes>"
            ]
          },
          "metadata": {
            "tags": []
          }
        }
      ]
    },
    {
      "cell_type": "markdown",
      "metadata": {
        "id": "_SkppHVRFCvY"
      },
      "source": [
        "# ***B) Planteo de Hipótesis nula e Hipótesis alternativa***\n",
        "\n",
        "H0: Los cambios de ánimo (apatía) en los sujetos no se deben a la evolución temporal del Parkinson.\n",
        "\n",
        "H1: En la medida que el Parkinson progresa, los sujetos presentan cambios en el ánimo (se vuelven más apáticos)."
      ]
    },
    {
      "cell_type": "markdown",
      "metadata": {
        "id": "XaClJCCkFIe2"
      },
      "source": [
        "## ***C) Interpretar los resultados y explicar si se cumplen los supuestos***\n",
        "\n",
        "Los P-Valores obtenidos se encuentran por debajo de 0,05; es decir, por debajo del %5. Por lo tanto, rechazamos la hipótesis nula.\n",
        "\n",
        "A partir de estos datos, entendemos que a medida que el Parkinson progresa, los sujetos podrían presentar cambios en el estado de  ánimo (se vuelven más apáticos apáticos)."
      ]
    },
    {
      "cell_type": "markdown",
      "metadata": {
        "id": "qZjfRkZhFLGq"
      },
      "source": [
        "# ***D) T-TEST***"
      ]
    },
    {
      "cell_type": "code",
      "metadata": {
        "colab": {
          "base_uri": "https://localhost:8080/"
        },
        "id": "BMqGouaNFOFU",
        "outputId": "e387fdd1-a602-40ce-9b89-a4410364dd55"
      },
      "source": [
        "stats.ttest_ind(ApatiaEnfermedad1, ApatiaEnfermedad2)"
      ],
      "execution_count": 24,
      "outputs": [
        {
          "output_type": "execute_result",
          "data": {
            "text/plain": [
              "Ttest_indResult(statistic=-0.027501924093044684, pvalue=0.9782356920213275)"
            ]
          },
          "metadata": {
            "tags": []
          },
          "execution_count": 24
        }
      ]
    },
    {
      "cell_type": "code",
      "metadata": {
        "colab": {
          "base_uri": "https://localhost:8080/"
        },
        "id": "uuM4o0siFRDu",
        "outputId": "0b1fa851-b151-4e2f-8dde-f28474071fb3"
      },
      "source": [
        "stats.ttest_ind(ApatiaEnfermedad1, ApatiaEnfermedad3)"
      ],
      "execution_count": 25,
      "outputs": [
        {
          "output_type": "execute_result",
          "data": {
            "text/plain": [
              "Ttest_indResult(statistic=-2.519707204728202, pvalue=0.017111771569263027)"
            ]
          },
          "metadata": {
            "tags": []
          },
          "execution_count": 25
        }
      ]
    },
    {
      "cell_type": "code",
      "metadata": {
        "colab": {
          "base_uri": "https://localhost:8080/"
        },
        "id": "E6TVARBZFTTb",
        "outputId": "5c988574-d05f-41ae-9122-fe3c97075736"
      },
      "source": [
        "stats.ttest_ind(ApatiaEnfermedad2, ApatiaEnfermedad3)"
      ],
      "execution_count": 26,
      "outputs": [
        {
          "output_type": "execute_result",
          "data": {
            "text/plain": [
              "Ttest_indResult(statistic=-2.931705060472186, pvalue=0.006178983193091636)"
            ]
          },
          "metadata": {
            "tags": []
          },
          "execution_count": 26
        }
      ]
    },
    {
      "cell_type": "markdown",
      "metadata": {
        "id": "B-r7PrF_FW-E"
      },
      "source": [
        "# ***E) BOXPLOT***"
      ]
    },
    {
      "cell_type": "code",
      "metadata": {
        "colab": {
          "base_uri": "https://localhost:8080/",
          "height": 323
        },
        "id": "a9rxKpzZFZrv",
        "outputId": "67343f57-4e07-4359-8d8b-13ced839b78b"
      },
      "source": [
        "plt.boxplot([ApatiaEnfermedad1, ApatiaEnfermedad2, ApatiaEnfermedad3])\n",
        "plt.xticks([1,2,3],[\"Apatia I\", \"Apatia II\", \"Apatia III\"])\n",
        "plt.show()"
      ],
      "execution_count": 27,
      "outputs": [
        {
          "output_type": "stream",
          "text": [
            "/usr/local/lib/python3.7/dist-packages/numpy/core/_asarray.py:83: VisibleDeprecationWarning: Creating an ndarray from ragged nested sequences (which is a list-or-tuple of lists-or-tuples-or ndarrays with different lengths or shapes) is deprecated. If you meant to do this, you must specify 'dtype=object' when creating the ndarray\n",
            "  return array(a, dtype, copy=False, order=order)\n"
          ],
          "name": "stderr"
        },
        {
          "output_type": "display_data",
          "data": {
            "image/png": "[encoded data removed]",
            "text/plain": [
              "<Figure size 432x288 with 1 Axes>"
            ]
          },
          "metadata": {
            "tags": []
          }
        }
      ]
    },
    {
      "cell_type": "markdown",
      "metadata": {
        "id": "ywxr_qFdFhaz"
      },
      "source": [
        "# ***PUNTO ADICIONAL***"
      ]
    },
    {
      "cell_type": "markdown",
      "metadata": {
        "id": "3fA8bPW5FhNb"
      },
      "source": [
        "# ***HAM-D***"
      ]
    },
    {
      "cell_type": "code",
      "metadata": {
        "id": "X6anFOUqFnQF"
      },
      "source": [
        "HamDEnfermedad1 = datos[\"Ham-D\"][datos[\"Enfermedad\"]==1]\n",
        "HamDEnfermedad2 = datos[\"Ham-D\"][datos[\"Enfermedad\"]==2]\n",
        "HamDEnfermedad3 = datos[\"Ham-D\"][datos[\"Enfermedad\"]==3]"
      ],
      "execution_count": 28,
      "outputs": []
    },
    {
      "cell_type": "markdown",
      "metadata": {
        "id": "7hzRmGOaFp1o"
      },
      "source": [
        "# ***ANOVA***"
      ]
    },
    {
      "cell_type": "code",
      "metadata": {
        "colab": {
          "base_uri": "https://localhost:8080/"
        },
        "id": "3WLy4shSFrhN",
        "outputId": "3d7721e8-af28-4cb8-818d-a843a7f0ef6b"
      },
      "source": [
        "stats.f_oneway(HamDEnfermedad1, HamDEnfermedad2, HamDEnfermedad3)"
      ],
      "execution_count": 29,
      "outputs": [
        {
          "output_type": "execute_result",
          "data": {
            "text/plain": [
              "F_onewayResult(statistic=0.15702015497457342, pvalue=0.8551333146858872)"
            ]
          },
          "metadata": {
            "tags": []
          },
          "execution_count": 29
        }
      ]
    },
    {
      "cell_type": "markdown",
      "metadata": {
        "id": "jPYk0ZjTFtlT"
      },
      "source": [
        "# ***T-TEST***"
      ]
    },
    {
      "cell_type": "code",
      "metadata": {
        "colab": {
          "base_uri": "https://localhost:8080/"
        },
        "id": "SEiLbdfeFvSj",
        "outputId": "fc1dcb84-4feb-4a06-929d-0f63cf7d7884"
      },
      "source": [
        "stats.ttest_ind(HamDEnfermedad1, HamDEnfermedad2)"
      ],
      "execution_count": 30,
      "outputs": [
        {
          "output_type": "execute_result",
          "data": {
            "text/plain": [
              "Ttest_indResult(statistic=-0.4878961938243757, pvalue=0.6290564568199699)"
            ]
          },
          "metadata": {
            "tags": []
          },
          "execution_count": 30
        }
      ]
    },
    {
      "cell_type": "code",
      "metadata": {
        "colab": {
          "base_uri": "https://localhost:8080/"
        },
        "id": "JpiX5V4oFxBZ",
        "outputId": "ab676c18-4340-4a0c-9272-c05dd631f321"
      },
      "source": [
        "stats.ttest_ind(HamDEnfermedad1, HamDEnfermedad3)"
      ],
      "execution_count": 31,
      "outputs": [
        {
          "output_type": "execute_result",
          "data": {
            "text/plain": [
              "Ttest_indResult(statistic=-0.47369876153997226, pvalue=0.6390339439651621)"
            ]
          },
          "metadata": {
            "tags": []
          },
          "execution_count": 31
        }
      ]
    },
    {
      "cell_type": "code",
      "metadata": {
        "colab": {
          "base_uri": "https://localhost:8080/"
        },
        "id": "NwRxVCmSFyZQ",
        "outputId": "c90665b6-d1af-4d9b-c517-feebe198ae9c"
      },
      "source": [
        "stats.ttest_ind(HamDEnfermedad2, HamDEnfermedad3)"
      ],
      "execution_count": 32,
      "outputs": [
        {
          "output_type": "execute_result",
          "data": {
            "text/plain": [
              "Ttest_indResult(statistic=0.10192530179265513, pvalue=0.9194519817890318)"
            ]
          },
          "metadata": {
            "tags": []
          },
          "execution_count": 32
        }
      ]
    },
    {
      "cell_type": "markdown",
      "metadata": {
        "id": "6z9RfOWfF0uP"
      },
      "source": [
        "# ***BOXPLOT***"
      ]
    },
    {
      "cell_type": "code",
      "metadata": {
        "colab": {
          "base_uri": "https://localhost:8080/",
          "height": 324
        },
        "id": "9h7AiH40F2jv",
        "outputId": "2e32d2b7-55d7-4c68-f8a3-8482718b1f66"
      },
      "source": [
        "plt.boxplot([HamDEnfermedad1,HamDEnfermedad2, HamDEnfermedad3])\n",
        "plt.xticks([1,2,3],[\"Ham-D I\", \"Ham-D II\", \"Ham-D III\"])\n",
        "plt.show()"
      ],
      "execution_count": 33,
      "outputs": [
        {
          "output_type": "stream",
          "text": [
            "/usr/local/lib/python3.7/dist-packages/numpy/core/_asarray.py:83: VisibleDeprecationWarning: Creating an ndarray from ragged nested sequences (which is a list-or-tuple of lists-or-tuples-or ndarrays with different lengths or shapes) is deprecated. If you meant to do this, you must specify 'dtype=object' when creating the ndarray\n",
            "  return array(a, dtype, copy=False, order=order)\n"
          ],
          "name": "stderr"
        },
        {
          "output_type": "display_data",
          "data": {
            "image/png": "[encoded data removed]",
            "text/plain": [
              "<Figure size 432x288 with 1 Axes>"
            ]
          },
          "metadata": {
            "tags": []
          }
        }
      ]
    },
    {
      "cell_type": "markdown",
      "metadata": {
        "id": "xu-rXOk7F6g-"
      },
      "source": [
        "# ***El P-Valor en los puntajes obtenidos de la escala de depresión de Hamilton***\n",
        "\n",
        "Los P-Valor obtenido se son significativamente más altos que 0,05; es decir, representan más del %5.\n",
        "\n",
        "La hipótesis nula en este caso sería que las personas que padecen la enfermedad de Parkinson, no contraen o incrementan su nivel de depresión. En este caso no se puede rechazar la hipótesis nula."
      ]
    }
  ]
}